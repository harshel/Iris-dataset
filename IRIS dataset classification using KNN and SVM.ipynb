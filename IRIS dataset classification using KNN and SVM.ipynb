{
 "cells": [
  {
   "cell_type": "code",
   "execution_count": 1,
   "metadata": {},
   "outputs": [
    {
     "data": {
      "text/plain": [
       "dict_keys(['data', 'target', 'target_names', 'DESCR', 'feature_names'])"
      ]
     },
     "execution_count": 1,
     "metadata": {},
     "output_type": "execute_result"
    }
   ],
   "source": [
    "import pandas as pd\n",
    "import matplotlib.pyplot as plt\n",
    "import seaborn as sns\n",
    "from sklearn.datasets import load_iris\n",
    "\n",
    "iris = load_iris()\n",
    "iris.keys()"
   ]
  },
  {
   "cell_type": "code",
   "execution_count": 2,
   "metadata": {},
   "outputs": [
    {
     "data": {
      "text/html": [
       "<div>\n",
       "<style>\n",
       "    .dataframe thead tr:only-child th {\n",
       "        text-align: right;\n",
       "    }\n",
       "\n",
       "    .dataframe thead th {\n",
       "        text-align: left;\n",
       "    }\n",
       "\n",
       "    .dataframe tbody tr th {\n",
       "        vertical-align: top;\n",
       "    }\n",
       "</style>\n",
       "<table border=\"1\" class=\"dataframe\">\n",
       "  <thead>\n",
       "    <tr style=\"text-align: right;\">\n",
       "      <th></th>\n",
       "      <th>sepal length (cm)</th>\n",
       "      <th>sepal width (cm)</th>\n",
       "      <th>petal length (cm)</th>\n",
       "      <th>petal width (cm)</th>\n",
       "    </tr>\n",
       "  </thead>\n",
       "  <tbody>\n",
       "    <tr>\n",
       "      <th>0</th>\n",
       "      <td>5.1</td>\n",
       "      <td>3.5</td>\n",
       "      <td>1.4</td>\n",
       "      <td>0.2</td>\n",
       "    </tr>\n",
       "    <tr>\n",
       "      <th>1</th>\n",
       "      <td>4.9</td>\n",
       "      <td>3.0</td>\n",
       "      <td>1.4</td>\n",
       "      <td>0.2</td>\n",
       "    </tr>\n",
       "    <tr>\n",
       "      <th>2</th>\n",
       "      <td>4.7</td>\n",
       "      <td>3.2</td>\n",
       "      <td>1.3</td>\n",
       "      <td>0.2</td>\n",
       "    </tr>\n",
       "    <tr>\n",
       "      <th>3</th>\n",
       "      <td>4.6</td>\n",
       "      <td>3.1</td>\n",
       "      <td>1.5</td>\n",
       "      <td>0.2</td>\n",
       "    </tr>\n",
       "    <tr>\n",
       "      <th>4</th>\n",
       "      <td>5.0</td>\n",
       "      <td>3.6</td>\n",
       "      <td>1.4</td>\n",
       "      <td>0.2</td>\n",
       "    </tr>\n",
       "  </tbody>\n",
       "</table>\n",
       "</div>"
      ],
      "text/plain": [
       "   sepal length (cm)  sepal width (cm)  petal length (cm)  petal width (cm)\n",
       "0                5.1               3.5                1.4               0.2\n",
       "1                4.9               3.0                1.4               0.2\n",
       "2                4.7               3.2                1.3               0.2\n",
       "3                4.6               3.1                1.5               0.2\n",
       "4                5.0               3.6                1.4               0.2"
      ]
     },
     "execution_count": 2,
     "metadata": {},
     "output_type": "execute_result"
    }
   ],
   "source": [
    "data = pd.DataFrame(iris['data'], columns=iris['feature_names'])\n",
    "data.head()"
   ]
  },
  {
   "cell_type": "code",
   "execution_count": 3,
   "metadata": {},
   "outputs": [
    {
     "data": {
      "text/html": [
       "<div>\n",
       "<style>\n",
       "    .dataframe thead tr:only-child th {\n",
       "        text-align: right;\n",
       "    }\n",
       "\n",
       "    .dataframe thead th {\n",
       "        text-align: left;\n",
       "    }\n",
       "\n",
       "    .dataframe tbody tr th {\n",
       "        vertical-align: top;\n",
       "    }\n",
       "</style>\n",
       "<table border=\"1\" class=\"dataframe\">\n",
       "  <thead>\n",
       "    <tr style=\"text-align: right;\">\n",
       "      <th></th>\n",
       "      <th>Target</th>\n",
       "    </tr>\n",
       "  </thead>\n",
       "  <tbody>\n",
       "    <tr>\n",
       "      <th>0</th>\n",
       "      <td>0</td>\n",
       "    </tr>\n",
       "    <tr>\n",
       "      <th>1</th>\n",
       "      <td>0</td>\n",
       "    </tr>\n",
       "    <tr>\n",
       "      <th>2</th>\n",
       "      <td>0</td>\n",
       "    </tr>\n",
       "    <tr>\n",
       "      <th>3</th>\n",
       "      <td>0</td>\n",
       "    </tr>\n",
       "    <tr>\n",
       "      <th>4</th>\n",
       "      <td>0</td>\n",
       "    </tr>\n",
       "  </tbody>\n",
       "</table>\n",
       "</div>"
      ],
      "text/plain": [
       "   Target\n",
       "0       0\n",
       "1       0\n",
       "2       0\n",
       "3       0\n",
       "4       0"
      ]
     },
     "execution_count": 3,
     "metadata": {},
     "output_type": "execute_result"
    }
   ],
   "source": [
    "target = pd.DataFrame(iris['target'], columns=['Target'])\n",
    "target.head()"
   ]
  },
  {
   "cell_type": "code",
   "execution_count": 4,
   "metadata": {},
   "outputs": [
    {
     "data": {
      "text/html": [
       "<div>\n",
       "<style>\n",
       "    .dataframe thead tr:only-child th {\n",
       "        text-align: right;\n",
       "    }\n",
       "\n",
       "    .dataframe thead th {\n",
       "        text-align: left;\n",
       "    }\n",
       "\n",
       "    .dataframe tbody tr th {\n",
       "        vertical-align: top;\n",
       "    }\n",
       "</style>\n",
       "<table border=\"1\" class=\"dataframe\">\n",
       "  <thead>\n",
       "    <tr style=\"text-align: right;\">\n",
       "      <th></th>\n",
       "      <th>sepal length (cm)</th>\n",
       "      <th>sepal width (cm)</th>\n",
       "      <th>petal length (cm)</th>\n",
       "      <th>petal width (cm)</th>\n",
       "      <th>Target</th>\n",
       "    </tr>\n",
       "  </thead>\n",
       "  <tbody>\n",
       "    <tr>\n",
       "      <th>0</th>\n",
       "      <td>5.1</td>\n",
       "      <td>3.5</td>\n",
       "      <td>1.4</td>\n",
       "      <td>0.2</td>\n",
       "      <td>0</td>\n",
       "    </tr>\n",
       "    <tr>\n",
       "      <th>1</th>\n",
       "      <td>4.9</td>\n",
       "      <td>3.0</td>\n",
       "      <td>1.4</td>\n",
       "      <td>0.2</td>\n",
       "      <td>0</td>\n",
       "    </tr>\n",
       "    <tr>\n",
       "      <th>2</th>\n",
       "      <td>4.7</td>\n",
       "      <td>3.2</td>\n",
       "      <td>1.3</td>\n",
       "      <td>0.2</td>\n",
       "      <td>0</td>\n",
       "    </tr>\n",
       "    <tr>\n",
       "      <th>3</th>\n",
       "      <td>4.6</td>\n",
       "      <td>3.1</td>\n",
       "      <td>1.5</td>\n",
       "      <td>0.2</td>\n",
       "      <td>0</td>\n",
       "    </tr>\n",
       "    <tr>\n",
       "      <th>4</th>\n",
       "      <td>5.0</td>\n",
       "      <td>3.6</td>\n",
       "      <td>1.4</td>\n",
       "      <td>0.2</td>\n",
       "      <td>0</td>\n",
       "    </tr>\n",
       "  </tbody>\n",
       "</table>\n",
       "</div>"
      ],
      "text/plain": [
       "   sepal length (cm)  sepal width (cm)  petal length (cm)  petal width (cm)  \\\n",
       "0                5.1               3.5                1.4               0.2   \n",
       "1                4.9               3.0                1.4               0.2   \n",
       "2                4.7               3.2                1.3               0.2   \n",
       "3                4.6               3.1                1.5               0.2   \n",
       "4                5.0               3.6                1.4               0.2   \n",
       "\n",
       "   Target  \n",
       "0       0  \n",
       "1       0  \n",
       "2       0  \n",
       "3       0  \n",
       "4       0  "
      ]
     },
     "execution_count": 4,
     "metadata": {},
     "output_type": "execute_result"
    }
   ],
   "source": [
    "total = pd.concat([data, target], axis=1)\n",
    "total.head()"
   ]
  },
  {
   "cell_type": "code",
   "execution_count": 5,
   "metadata": {
    "collapsed": true
   },
   "outputs": [],
   "source": [
    "#split the dataset into two of features and labels\n",
    "X = total.drop(['Target'], axis=1)\n",
    "y = total['Target']"
   ]
  },
  {
   "cell_type": "code",
   "execution_count": 6,
   "metadata": {},
   "outputs": [
    {
     "data": {
      "image/png": "[encoded data removed]",
      "text/plain": [
       "<matplotlib.figure.Figure at 0x1b848beb8>"
      ]
     },
     "metadata": {},
     "output_type": "display_data"
    }
   ],
   "source": [
    "ax = sns.countplot(y)\n",
    "plt.show()"
   ]
  },
  {
   "cell_type": "markdown",
   "metadata": {},
   "source": [
    "To be honest, count plot was supposed to be what it is showing as there ar equal number of every species of flower"
   ]
  },
  {
   "cell_type": "code",
   "execution_count": 7,
   "metadata": {},
   "outputs": [
    {
     "data": {
      "text/html": [
       "<div>\n",
       "<style>\n",
       "    .dataframe thead tr:only-child th {\n",
       "        text-align: right;\n",
       "    }\n",
       "\n",
       "    .dataframe thead th {\n",
       "        text-align: left;\n",
       "    }\n",
       "\n",
       "    .dataframe tbody tr th {\n",
       "        vertical-align: top;\n",
       "    }\n",
       "</style>\n",
       "<table border=\"1\" class=\"dataframe\">\n",
       "  <thead>\n",
       "    <tr style=\"text-align: right;\">\n",
       "      <th></th>\n",
       "      <th>sepal length (cm)</th>\n",
       "      <th>sepal width (cm)</th>\n",
       "      <th>petal length (cm)</th>\n",
       "      <th>petal width (cm)</th>\n",
       "    </tr>\n",
       "  </thead>\n",
       "  <tbody>\n",
       "    <tr>\n",
       "      <th>count</th>\n",
       "      <td>150.000000</td>\n",
       "      <td>150.000000</td>\n",
       "      <td>150.000000</td>\n",
       "      <td>150.000000</td>\n",
       "    </tr>\n",
       "    <tr>\n",
       "      <th>mean</th>\n",
       "      <td>5.843333</td>\n",
       "      <td>3.054000</td>\n",
       "      <td>3.758667</td>\n",
       "      <td>1.198667</td>\n",
       "    </tr>\n",
       "    <tr>\n",
       "      <th>std</th>\n",
       "      <td>0.828066</td>\n",
       "      <td>0.433594</td>\n",
       "      <td>1.764420</td>\n",
       "      <td>0.763161</td>\n",
       "    </tr>\n",
       "    <tr>\n",
       "      <th>min</th>\n",
       "      <td>4.300000</td>\n",
       "      <td>2.000000</td>\n",
       "      <td>1.000000</td>\n",
       "      <td>0.100000</td>\n",
       "    </tr>\n",
       "    <tr>\n",
       "      <th>25%</th>\n",
       "      <td>5.100000</td>\n",
       "      <td>2.800000</td>\n",
       "      <td>1.600000</td>\n",
       "      <td>0.300000</td>\n",
       "    </tr>\n",
       "    <tr>\n",
       "      <th>50%</th>\n",
       "      <td>5.800000</td>\n",
       "      <td>3.000000</td>\n",
       "      <td>4.350000</td>\n",
       "      <td>1.300000</td>\n",
       "    </tr>\n",
       "    <tr>\n",
       "      <th>75%</th>\n",
       "      <td>6.400000</td>\n",
       "      <td>3.300000</td>\n",
       "      <td>5.100000</td>\n",
       "      <td>1.800000</td>\n",
       "    </tr>\n",
       "    <tr>\n",
       "      <th>max</th>\n",
       "      <td>7.900000</td>\n",
       "      <td>4.400000</td>\n",
       "      <td>6.900000</td>\n",
       "      <td>2.500000</td>\n",
       "    </tr>\n",
       "  </tbody>\n",
       "</table>\n",
       "</div>"
      ],
      "text/plain": [
       "       sepal length (cm)  sepal width (cm)  petal length (cm)  \\\n",
       "count         150.000000        150.000000         150.000000   \n",
       "mean            5.843333          3.054000           3.758667   \n",
       "std             0.828066          0.433594           1.764420   \n",
       "min             4.300000          2.000000           1.000000   \n",
       "25%             5.100000          2.800000           1.600000   \n",
       "50%             5.800000          3.000000           4.350000   \n",
       "75%             6.400000          3.300000           5.100000   \n",
       "max             7.900000          4.400000           6.900000   \n",
       "\n",
       "       petal width (cm)  \n",
       "count        150.000000  \n",
       "mean           1.198667  \n",
       "std            0.763161  \n",
       "min            0.100000  \n",
       "25%            0.300000  \n",
       "50%            1.300000  \n",
       "75%            1.800000  \n",
       "max            2.500000  "
      ]
     },
     "execution_count": 7,
     "metadata": {},
     "output_type": "execute_result"
    }
   ],
   "source": [
    "#Check the discription of the features.\n",
    "# From this you can find if there are any missing values in the dataset\n",
    "X.describe()"
   ]
  },
  {
   "cell_type": "code",
   "execution_count": 8,
   "metadata": {},
   "outputs": [
    {
     "data": {
      "text/html": [
       "<div>\n",
       "<style>\n",
       "    .dataframe thead tr:only-child th {\n",
       "        text-align: right;\n",
       "    }\n",
       "\n",
       "    .dataframe thead th {\n",
       "        text-align: left;\n",
       "    }\n",
       "\n",
       "    .dataframe tbody tr th {\n",
       "        vertical-align: top;\n",
       "    }\n",
       "</style>\n",
       "<table border=\"1\" class=\"dataframe\">\n",
       "  <thead>\n",
       "    <tr style=\"text-align: right;\">\n",
       "      <th></th>\n",
       "      <th>sepal length (cm)</th>\n",
       "      <th>sepal width (cm)</th>\n",
       "      <th>petal length (cm)</th>\n",
       "      <th>petal width (cm)</th>\n",
       "    </tr>\n",
       "  </thead>\n",
       "  <tbody>\n",
       "    <tr>\n",
       "      <th>0</th>\n",
       "      <td>5.1</td>\n",
       "      <td>3.5</td>\n",
       "      <td>1.4</td>\n",
       "      <td>0.2</td>\n",
       "    </tr>\n",
       "    <tr>\n",
       "      <th>1</th>\n",
       "      <td>4.9</td>\n",
       "      <td>3.0</td>\n",
       "      <td>1.4</td>\n",
       "      <td>0.2</td>\n",
       "    </tr>\n",
       "    <tr>\n",
       "      <th>2</th>\n",
       "      <td>4.7</td>\n",
       "      <td>3.2</td>\n",
       "      <td>1.3</td>\n",
       "      <td>0.2</td>\n",
       "    </tr>\n",
       "    <tr>\n",
       "      <th>3</th>\n",
       "      <td>4.6</td>\n",
       "      <td>3.1</td>\n",
       "      <td>1.5</td>\n",
       "      <td>0.2</td>\n",
       "    </tr>\n",
       "    <tr>\n",
       "      <th>4</th>\n",
       "      <td>5.0</td>\n",
       "      <td>3.6</td>\n",
       "      <td>1.4</td>\n",
       "      <td>0.2</td>\n",
       "    </tr>\n",
       "  </tbody>\n",
       "</table>\n",
       "</div>"
      ],
      "text/plain": [
       "   sepal length (cm)  sepal width (cm)  petal length (cm)  petal width (cm)\n",
       "0                5.1               3.5                1.4               0.2\n",
       "1                4.9               3.0                1.4               0.2\n",
       "2                4.7               3.2                1.3               0.2\n",
       "3                4.6               3.1                1.5               0.2\n",
       "4                5.0               3.6                1.4               0.2"
      ]
     },
     "execution_count": 8,
     "metadata": {},
     "output_type": "execute_result"
    }
   ],
   "source": [
    "data = pd.DataFrame(iris['data'], columns=iris['feature_names'])\n",
    "data.head()"
   ]
  },
  {
   "cell_type": "code",
   "execution_count": 9,
   "metadata": {},
   "outputs": [
    {
     "data": {
      "image/png": "[encoded data removed]",
      "text/plain": [
       "<matplotlib.figure.Figure at 0x1b840e828>"
      ]
     },
     "metadata": {},
     "output_type": "display_data"
    }
   ],
   "source": [
    "#compare every feature with every other feature\n",
    "sns.pairplot(data, kind = 'scatter')\n",
    "plt.show()"
   ]
  },
  {
   "cell_type": "code",
   "execution_count": 10,
   "metadata": {
    "collapsed": true
   },
   "outputs": [],
   "source": [
    "from sklearn.model_selection import train_test_split\n",
    "X_train, X_test, y_train, y_test = train_test_split(X, y, test_size = 0.20, random_state= 100)\n",
    "\n",
    "#test_size = 0.20 refers to training data size of 80% and test data size of 20%"
   ]
  },
  {
   "cell_type": "markdown",
   "metadata": {},
   "source": [
    "# 1. K-NEAREST NEIGHBORS FOR CLASSIFICATION"
   ]
  },
  {
   "cell_type": "code",
   "execution_count": 11,
   "metadata": {
    "collapsed": true
   },
   "outputs": [],
   "source": [
    "from sklearn.neighbors import KNeighborsClassifier\n",
    "\n",
    "knn = KNeighborsClassifier(n_neighbors = 35)   #initially setting k = 35"
   ]
  },
  {
   "cell_type": "code",
   "execution_count": 12,
   "metadata": {},
   "outputs": [
    {
     "data": {
      "text/plain": [
       "KNeighborsClassifier(algorithm='auto', leaf_size=30, metric='minkowski',\n",
       "           metric_params=None, n_jobs=1, n_neighbors=35, p=2,\n",
       "           weights='uniform')"
      ]
     },
     "execution_count": 12,
     "metadata": {},
     "output_type": "execute_result"
    }
   ],
   "source": [
    "knn.fit(X_train, y_train)"
   ]
  },
  {
   "cell_type": "code",
   "execution_count": 13,
   "metadata": {
    "collapsed": true
   },
   "outputs": [],
   "source": [
    "prediction = knn.predict(X_test)"
   ]
  },
  {
   "cell_type": "code",
   "execution_count": 14,
   "metadata": {},
   "outputs": [
    {
     "name": "stdout",
     "output_type": "stream",
     "text": [
      "             precision    recall  f1-score   support\n",
      "\n",
      "          0       1.00      1.00      1.00        11\n",
      "          1       0.83      0.83      0.83         6\n",
      "          2       0.92      0.92      0.92        13\n",
      "\n",
      "avg / total       0.93      0.93      0.93        30\n",
      "\n"
     ]
    }
   ],
   "source": [
    "from sklearn.metrics import classification_report, confusion_matrix, accuracy_score\n",
    "print(classification_report(prediction, y_test))"
   ]
  },
  {
   "cell_type": "code",
   "execution_count": 15,
   "metadata": {},
   "outputs": [
    {
     "data": {
      "image/png": "[encoded data removed]",
      "text/plain": [
       "<matplotlib.figure.Figure at 0x1b9be2668>"
      ]
     },
     "metadata": {},
     "output_type": "display_data"
    }
   ],
   "source": [
    "cm = confusion_matrix(prediction, y_test)\n",
    "sns.heatmap(cm, annot=True, fmt='d')\n",
    "plt.show()"
   ]
  },
  {
   "cell_type": "markdown",
   "metadata": {},
   "source": [
    "As can be seen from heat map some of our predictions seems to be wrong.\n",
    "We will try to corect these and try to achieve maximum efficiency by optimising k value "
   ]
  },
  {
   "cell_type": "markdown",
   "metadata": {},
   "source": [
    "CHOOSING THE VALUE OF K"
   ]
  },
  {
   "cell_type": "markdown",
   "metadata": {},
   "source": [
    "#we will plot the graph for different values k versus the corresponding accuracy score to fund the optimal k value"
   ]
  },
  {
   "cell_type": "code",
   "execution_count": 16,
   "metadata": {
    "collapsed": true
   },
   "outputs": [],
   "source": [
    "acc_score = []\n",
    "\n",
    "for k in range(1, 40):\n",
    "    knn = KNeighborsClassifier(n_neighbors = k)\n",
    "    knn.fit(X_train, y_train)\n",
    "    prediction_y = knn.predict(X_test)\n",
    "    acc_score.append(accuracy_score(y_test, prediction_y))"
   ]
  },
  {
   "cell_type": "code",
   "execution_count": 17,
   "metadata": {},
   "outputs": [
    {
     "data": {
      "image/png": "[encoded data removed]",
      "text/plain": [
       "<matplotlib.figure.Figure at 0x1b9c4bda0>"
      ]
     },
     "metadata": {},
     "output_type": "display_data"
    }
   ],
   "source": [
    "plt.figure(figsize= (10,10))\n",
    "plt.plot(range(1,40), acc_score, marker = 'o', linestyle='dashed', color = 'r')\n",
    "plt.show()"
   ]
  },
  {
   "cell_type": "markdown",
   "metadata": {},
   "source": [
    "As it can be observed from the above graph, for maximum efficiency the optimal value of k value lies in the range of \n",
    "1 to 3 and or 5 to 12.\n",
    "\n",
    "Lets check the accuracy by using different value of k."
   ]
  },
  {
   "cell_type": "code",
   "execution_count": 18,
   "metadata": {},
   "outputs": [
    {
     "data": {
      "text/plain": [
       "KNeighborsClassifier(algorithm='auto', leaf_size=30, metric='minkowski',\n",
       "           metric_params=None, n_jobs=1, n_neighbors=10, p=2,\n",
       "           weights='uniform')"
      ]
     },
     "execution_count": 18,
     "metadata": {},
     "output_type": "execute_result"
    }
   ],
   "source": [
    "knn = KNeighborsClassifier(n_neighbors = 10)\n",
    "knn.fit(X_train, y_train)"
   ]
  },
  {
   "cell_type": "code",
   "execution_count": 19,
   "metadata": {
    "collapsed": true
   },
   "outputs": [],
   "source": [
    "y_pred = knn.predict(X_test)"
   ]
  },
  {
   "cell_type": "code",
   "execution_count": 20,
   "metadata": {},
   "outputs": [
    {
     "name": "stdout",
     "output_type": "stream",
     "text": [
      "Accuracy score: 100.0\n"
     ]
    }
   ],
   "source": [
    "print(\"Accuracy score: {}\".format(accuracy_score(y_pred, y_test) * 100))"
   ]
  },
  {
   "cell_type": "code",
   "execution_count": 21,
   "metadata": {},
   "outputs": [
    {
     "name": "stdout",
     "output_type": "stream",
     "text": [
      "             precision    recall  f1-score   support\n",
      "\n",
      "          0       1.00      1.00      1.00        11\n",
      "          1       1.00      1.00      1.00         6\n",
      "          2       1.00      1.00      1.00        13\n",
      "\n",
      "avg / total       1.00      1.00      1.00        30\n",
      "\n"
     ]
    }
   ],
   "source": [
    "print(classification_report(y_pred, y_test))"
   ]
  },
  {
   "cell_type": "markdown",
   "metadata": {},
   "source": [
    "With k =10 the accuracy changes from 97% to 100% "
   ]
  },
  {
   "cell_type": "code",
   "execution_count": 22,
   "metadata": {},
   "outputs": [
    {
     "data": {
      "image/png": "[encoded data removed]",
      "text/plain": [
       "<matplotlib.figure.Figure at 0x1b9cb05f8>"
      ]
     },
     "metadata": {},
     "output_type": "display_data"
    }
   ],
   "source": [
    "#plotting confusion matrix and heat map\n",
    "cm = confusion_matrix(y_pred, y_test)\n",
    "sns.heatmap(cm, annot=True, fmt='d')\n",
    "plt.show()"
   ]
  },
  {
   "cell_type": "markdown",
   "metadata": {},
   "source": [
    "From this heat map it can be concluded that all our predictions were corect"
   ]
  },
  {
   "cell_type": "markdown",
   "metadata": {},
   "source": [
    "# 2 . SUPPORT VECTOR MACHINES FOR CLASSIFICATION"
   ]
  },
  {
   "cell_type": "code",
   "execution_count": 23,
   "metadata": {
    "collapsed": true
   },
   "outputs": [],
   "source": [
    "from sklearn.svm import SVC\n",
    "\n",
    "svc = SVC(kernel = 'rbf', C=10, gamma = 40)"
   ]
  },
  {
   "cell_type": "markdown",
   "metadata": {},
   "source": [
    "selecting random values of parameters such as kernel, C, gamma"
   ]
  },
  {
   "cell_type": "code",
   "execution_count": 24,
   "metadata": {},
   "outputs": [
    {
     "data": {
      "text/plain": [
       "SVC(C=10, cache_size=200, class_weight=None, coef0=0.0,\n",
       "  decision_function_shape='ovr', degree=3, gamma=40, kernel='rbf',\n",
       "  max_iter=-1, probability=False, random_state=None, shrinking=True,\n",
       "  tol=0.001, verbose=False)"
      ]
     },
     "execution_count": 24,
     "metadata": {},
     "output_type": "execute_result"
    }
   ],
   "source": [
    "svc.fit(X_train, y_train)"
   ]
  },
  {
   "cell_type": "code",
   "execution_count": 25,
   "metadata": {
    "collapsed": true
   },
   "outputs": [],
   "source": [
    "svc_pred = svc.predict(X_test)"
   ]
  },
  {
   "cell_type": "code",
   "execution_count": 26,
   "metadata": {},
   "outputs": [
    {
     "name": "stdout",
     "output_type": "stream",
     "text": [
      "0.7\n"
     ]
    }
   ],
   "source": [
    "from sklearn.metrics import accuracy_score\n",
    "\n",
    "print(accuracy_score(svc_pred, y_test))"
   ]
  },
  {
   "cell_type": "code",
   "execution_count": 27,
   "metadata": {},
   "outputs": [
    {
     "name": "stdout",
     "output_type": "stream",
     "text": [
      "             precision    recall  f1-score   support\n",
      "\n",
      "          0       0.64      1.00      0.78         7\n",
      "          1       1.00      0.40      0.57        15\n",
      "          2       0.62      1.00      0.76         8\n",
      "\n",
      "avg / total       0.81      0.70      0.67        30\n",
      "\n"
     ]
    }
   ],
   "source": [
    "print(classification_report(svc_pred, y_test))"
   ]
  },
  {
   "cell_type": "markdown",
   "metadata": {},
   "source": [
    "The accuracy of the model turn out to be 70 %.\n",
    "We will try to improve the accuracy by finding the most effecient values for SVM parameters "
   ]
  },
  {
   "cell_type": "code",
   "execution_count": 28,
   "metadata": {
    "collapsed": true
   },
   "outputs": [],
   "source": [
    "#import GridSearchCV \n",
    "from sklearn.model_selection import GridSearchCV\n",
    "\n",
    "hyperparameters = ({'C': [0.001, 0.01, 10, 100, 1000], 'gamma': [1, 5, 10, 20, 30], 'kernel': ['rbf', 'linear']})"
   ]
  },
  {
   "cell_type": "code",
   "execution_count": 29,
   "metadata": {
    "collapsed": true
   },
   "outputs": [],
   "source": [
    "grid = GridSearchCV(SVC(), hyperparameters, refit=True, verbose=3)"
   ]
  },
  {
   "cell_type": "code",
   "execution_count": 30,
   "metadata": {},
   "outputs": [
    {
     "name": "stdout",
     "output_type": "stream",
     "text": [
      "Fitting 3 folds for each of 50 candidates, totalling 150 fits\n",
      "[CV] C=0.001, gamma=1, kernel=rbf ....................................\n",
      "[CV]  C=0.001, gamma=1, kernel=rbf, score=0.36585365853658536, total=   0.0s\n",
      "[CV] C=0.001, gamma=1, kernel=rbf ....................................\n",
      "[CV] ........ C=0.001, gamma=1, kernel=rbf, score=0.375, total=   0.0s\n",
      "[CV] C=0.001, gamma=1, kernel=rbf ....................................\n",
      "[CV]  C=0.001, gamma=1, kernel=rbf, score=0.358974358974359, total=   0.0s\n",
      "[CV] C=0.001, gamma=1, kernel=linear .................................\n",
      "[CV]  C=0.001, gamma=1, kernel=linear, score=0.36585365853658536, total=   0.0s\n",
      "[CV] C=0.001, gamma=1, kernel=linear .................................\n",
      "[CV] ..... C=0.001, gamma=1, kernel=linear, score=0.375, total=   0.0s\n",
      "[CV] C=0.001, gamma=1, kernel=linear .................................\n",
      "[CV]  C=0.001, gamma=1, kernel=linear, score=0.358974358974359, total=   0.0s\n",
      "[CV] C=0.001, gamma=5, kernel=rbf ....................................\n",
      "[CV]  C=0.001, gamma=5, kernel=rbf, score=0.36585365853658536, total=   0.0s\n",
      "[CV] C=0.001, gamma=5, kernel=rbf ....................................\n",
      "[CV] ........ C=0.001, gamma=5, kernel=rbf, score=0.375, total=   0.0s\n",
      "[CV] C=0.001, gamma=5, kernel=rbf ....................................\n",
      "[CV]  C=0.001, gamma=5, kernel=rbf, score=0.358974358974359, total=   0.0s\n",
      "[CV] C=0.001, gamma=5, kernel=linear .................................\n",
      "[CV]  C=0.001, gamma=5, kernel=linear, score=0.36585365853658536, total=   0.0s\n",
      "[CV] C=0.001, gamma=5, kernel=linear .................................\n",
      "[CV] ..... C=0.001, gamma=5, kernel=linear, score=0.375, total=   0.0s\n",
      "[CV] C=0.001, gamma=5, kernel=linear .................................\n",
      "[CV]  C=0.001, gamma=5, kernel=linear, score=0.358974358974359, total=   0.0s\n",
      "[CV] C=0.001, gamma=10, kernel=rbf ...................................\n",
      "[CV]  C=0.001, gamma=10, kernel=rbf, score=0.36585365853658536, total=   0.0s\n",
      "[CV] C=0.001, gamma=10, kernel=rbf ...................................\n",
      "[CV] ....... C=0.001, gamma=10, kernel=rbf, score=0.375, total=   0.0s\n",
      "[CV] C=0.001, gamma=10, kernel=rbf ...................................\n",
      "[CV]  C=0.001, gamma=10, kernel=rbf, score=0.358974358974359, total=   0.0s\n",
      "[CV] C=0.001, gamma=10, kernel=linear ................................\n",
      "[CV]  C=0.001, gamma=10, kernel=linear, score=0.36585365853658536, total=   0.0s\n",
      "[CV] C=0.001, gamma=10, kernel=linear ................................\n",
      "[CV] .... C=0.001, gamma=10, kernel=linear, score=0.375, total=   0.0s\n",
      "[CV] C=0.001, gamma=10, kernel=linear ................................\n",
      "[CV]  C=0.001, gamma=10, kernel=linear, score=0.358974358974359, total=   0.0s\n",
      "[CV] C=0.001, gamma=20, kernel=rbf ...................................\n",
      "[CV]  C=0.001, gamma=20, kernel=rbf, score=0.36585365853658536, total=   0.0s\n",
      "[CV] C=0.001, gamma=20, kernel=rbf ...................................\n",
      "[CV] ....... C=0.001, gamma=20, kernel=rbf, score=0.375, total=   0.0s\n",
      "[CV] C=0.001, gamma=20, kernel=rbf ...................................\n",
      "[CV]  C=0.001, gamma=20, kernel=rbf, score=0.358974358974359, total=   0.0s\n",
      "[CV] C=0.001, gamma=20, kernel=linear ................................\n",
      "[CV]  C=0.001, gamma=20, kernel=linear, score=0.36585365853658536, total=   0.0s\n",
      "[CV] C=0.001, gamma=20, kernel=linear ................................\n",
      "[CV] .... C=0.001, gamma=20, kernel=linear, score=0.375, total=   0.0s\n",
      "[CV] C=0.001, gamma=20, kernel=linear ................................\n",
      "[CV]  C=0.001, gamma=20, kernel=linear, score=0.358974358974359, total=   0.0s\n",
      "[CV] C=0.001, gamma=30, kernel=rbf ...................................\n",
      "[CV]  C=0.001, gamma=30, kernel=rbf, score=0.36585365853658536, total=   0.0s\n",
      "[CV] C=0.001, gamma=30, kernel=rbf ...................................\n",
      "[CV] ....... C=0.001, gamma=30, kernel=rbf, score=0.375, total=   0.0s\n",
      "[CV] C=0.001, gamma=30, kernel=rbf ...................................\n",
      "[CV]  C=0.001, gamma=30, kernel=rbf, score=0.358974358974359, total=   0.0s\n",
      "[CV] C=0.001, gamma=30, kernel=linear ................................\n",
      "[CV]  C=0.001, gamma=30, kernel=linear, score=0.36585365853658536, total=   0.0s\n",
      "[CV] C=0.001, gamma=30, kernel=linear ................................\n",
      "[CV] .... C=0.001, gamma=30, kernel=linear, score=0.375, total=   0.0s\n",
      "[CV] C=0.001, gamma=30, kernel=linear ................................\n",
      "[CV]  C=0.001, gamma=30, kernel=linear, score=0.358974358974359, total=   0.0s\n",
      "[CV] C=0.01, gamma=1, kernel=rbf .....................................\n",
      "[CV]  C=0.01, gamma=1, kernel=rbf, score=0.36585365853658536, total=   0.0s\n",
      "[CV] C=0.01, gamma=1, kernel=rbf .....................................\n",
      "[CV] ......... C=0.01, gamma=1, kernel=rbf, score=0.375, total=   0.0s\n",
      "[CV] C=0.01, gamma=1, kernel=rbf .....................................\n",
      "[CV]  C=0.01, gamma=1, kernel=rbf, score=0.358974358974359, total=   0.0s\n",
      "[CV] C=0.01, gamma=1, kernel=linear ..................................\n",
      "[CV]  C=0.01, gamma=1, kernel=linear, score=0.7317073170731707, total=   0.0s\n",
      "[CV] C=0.01, gamma=1, kernel=linear ..................................\n",
      "[CV] ....... C=0.01, gamma=1, kernel=linear, score=0.85, total=   0.0s\n",
      "[CV] C=0.01, gamma=1, kernel=linear ..................................\n",
      "[CV]  C=0.01, gamma=1, kernel=linear, score=0.6923076923076923, total=   0.0s\n",
      "[CV] C=0.01, gamma=5, kernel=rbf .....................................\n",
      "[CV]  C=0.01, gamma=5, kernel=rbf, score=0.36585365853658536, total=   0.0s\n",
      "[CV] C=0.01, gamma=5, kernel=rbf .....................................\n",
      "[CV] ......... C=0.01, gamma=5, kernel=rbf, score=0.375, total=   0.0s\n",
      "[CV] C=0.01, gamma=5, kernel=rbf .....................................\n",
      "[CV]  C=0.01, gamma=5, kernel=rbf, score=0.358974358974359, total=   0.0s\n",
      "[CV] C=0.01, gamma=5, kernel=linear ..................................\n",
      "[CV]  C=0.01, gamma=5, kernel=linear, score=0.7317073170731707, total=   0.0s\n",
      "[CV] C=0.01, gamma=5, kernel=linear ..................................\n",
      "[CV] ....... C=0.01, gamma=5, kernel=linear, score=0.85, total=   0.0s\n",
      "[CV] C=0.01, gamma=5, kernel=linear ..................................\n",
      "[CV]  C=0.01, gamma=5, kernel=linear, score=0.6923076923076923, total=   0.0s\n",
      "[CV] C=0.01, gamma=10, kernel=rbf ....................................\n",
      "[CV]  C=0.01, gamma=10, kernel=rbf, score=0.36585365853658536, total=   0.0s\n",
      "[CV] C=0.01, gamma=10, kernel=rbf ....................................\n",
      "[CV] ........ C=0.01, gamma=10, kernel=rbf, score=0.375, total=   0.0s\n",
      "[CV] C=0.01, gamma=10, kernel=rbf ....................................\n",
      "[CV]  C=0.01, gamma=10, kernel=rbf, score=0.358974358974359, total=   0.0s\n",
      "[CV] C=0.01, gamma=10, kernel=linear .................................\n",
      "[CV]  C=0.01, gamma=10, kernel=linear, score=0.7317073170731707, total=   0.0s\n",
      "[CV] C=0.01, gamma=10, kernel=linear .................................\n",
      "[CV] ...... C=0.01, gamma=10, kernel=linear, score=0.85, total=   0.0s\n",
      "[CV] C=0.01, gamma=10, kernel=linear .................................\n",
      "[CV]  C=0.01, gamma=10, kernel=linear, score=0.6923076923076923, total=   0.0s\n",
      "[CV] C=0.01, gamma=20, kernel=rbf ....................................\n",
      "[CV]  C=0.01, gamma=20, kernel=rbf, score=0.36585365853658536, total=   0.0s\n",
      "[CV] C=0.01, gamma=20, kernel=rbf ....................................\n",
      "[CV] ........ C=0.01, gamma=20, kernel=rbf, score=0.375, total=   0.0s\n",
      "[CV] C=0.01, gamma=20, kernel=rbf ....................................\n",
      "[CV]  C=0.01, gamma=20, kernel=rbf, score=0.358974358974359, total=   0.0s\n",
      "[CV] C=0.01, gamma=20, kernel=linear .................................\n",
      "[CV]  C=0.01, gamma=20, kernel=linear, score=0.7317073170731707, total=   0.0s\n",
      "[CV] C=0.01, gamma=20, kernel=linear .................................\n",
      "[CV] ...... C=0.01, gamma=20, kernel=linear, score=0.85, total=   0.0s\n",
      "[CV] C=0.01, gamma=20, kernel=linear .................................\n",
      "[CV]  C=0.01, gamma=20, kernel=linear, score=0.6923076923076923, total=   0.0s\n",
      "[CV] C=0.01, gamma=30, kernel=rbf ....................................\n",
      "[CV]  C=0.01, gamma=30, kernel=rbf, score=0.36585365853658536, total=   0.0s\n",
      "[CV] C=0.01, gamma=30, kernel=rbf ....................................\n",
      "[CV] ........ C=0.01, gamma=30, kernel=rbf, score=0.375, total=   0.0s\n",
      "[CV] C=0.01, gamma=30, kernel=rbf ....................................\n",
      "[CV]  C=0.01, gamma=30, kernel=rbf, score=0.358974358974359, total=   0.0s\n",
      "[CV] C=0.01, gamma=30, kernel=linear .................................\n",
      "[CV]  C=0.01, gamma=30, kernel=linear, score=0.7317073170731707, total=   0.0s\n",
      "[CV] C=0.01, gamma=30, kernel=linear .................................\n",
      "[CV] ...... C=0.01, gamma=30, kernel=linear, score=0.85, total=   0.0s\n",
      "[CV] C=0.01, gamma=30, kernel=linear .................................\n",
      "[CV]  C=0.01, gamma=30, kernel=linear, score=0.6923076923076923, total=   0.0s"
     ]
    },
    {
     "name": "stderr",
     "output_type": "stream",
     "text": [
      "[Parallel(n_jobs=1)]: Done   1 out of   1 | elapsed:    0.0s remaining:    0.0s\n",
      "[Parallel(n_jobs=1)]: Done   2 out of   2 | elapsed:    0.0s remaining:    0.0s\n"
     ]
    },
    {
     "name": "stdout",
     "output_type": "stream",
     "text": [
      "\n",
      "[CV] C=10, gamma=1, kernel=rbf .......................................\n",
      "[CV]  C=10, gamma=1, kernel=rbf, score=0.926829268292683, total=   0.0s\n",
      "[CV] C=10, gamma=1, kernel=rbf .......................................\n",
      "[CV] ........... C=10, gamma=1, kernel=rbf, score=0.925, total=   0.0s\n",
      "[CV] C=10, gamma=1, kernel=rbf .......................................\n",
      "[CV] ............. C=10, gamma=1, kernel=rbf, score=1.0, total=   0.0s\n",
      "[CV] C=10, gamma=1, kernel=linear ....................................\n",
      "[CV]  C=10, gamma=1, kernel=linear, score=0.926829268292683, total=   0.0s\n",
      "[CV] C=10, gamma=1, kernel=linear ....................................\n",
      "[CV] ........ C=10, gamma=1, kernel=linear, score=0.925, total=   0.0s\n",
      "[CV] C=10, gamma=1, kernel=linear ....................................\n",
      "[CV] .......... C=10, gamma=1, kernel=linear, score=1.0, total=   0.0s\n",
      "[CV] C=10, gamma=5, kernel=rbf .......................................\n",
      "[CV]  C=10, gamma=5, kernel=rbf, score=0.8780487804878049, total=   0.0s\n",
      "[CV] C=10, gamma=5, kernel=rbf .......................................\n",
      "[CV] ........... C=10, gamma=5, kernel=rbf, score=0.925, total=   0.0s\n",
      "[CV] C=10, gamma=5, kernel=rbf .......................................\n",
      "[CV] ............. C=10, gamma=5, kernel=rbf, score=1.0, total=   0.0s\n",
      "[CV] C=10, gamma=5, kernel=linear ....................................\n",
      "[CV]  C=10, gamma=5, kernel=linear, score=0.926829268292683, total=   0.0s\n",
      "[CV] C=10, gamma=5, kernel=linear ....................................\n",
      "[CV] ........ C=10, gamma=5, kernel=linear, score=0.925, total=   0.0s\n",
      "[CV] C=10, gamma=5, kernel=linear ....................................\n",
      "[CV] .......... C=10, gamma=5, kernel=linear, score=1.0, total=   0.0s\n",
      "[CV] C=10, gamma=10, kernel=rbf ......................................\n",
      "[CV]  C=10, gamma=10, kernel=rbf, score=0.8048780487804879, total=   0.0s\n",
      "[CV] C=10, gamma=10, kernel=rbf ......................................\n",
      "[CV] .......... C=10, gamma=10, kernel=rbf, score=0.925, total=   0.0s\n",
      "[CV] C=10, gamma=10, kernel=rbf ......................................\n",
      "[CV] ............ C=10, gamma=10, kernel=rbf, score=1.0, total=   0.0s\n",
      "[CV] C=10, gamma=10, kernel=linear ...................................\n",
      "[CV]  C=10, gamma=10, kernel=linear, score=0.926829268292683, total=   0.0s\n",
      "[CV] C=10, gamma=10, kernel=linear ...................................\n",
      "[CV] ....... C=10, gamma=10, kernel=linear, score=0.925, total=   0.0s\n",
      "[CV] C=10, gamma=10, kernel=linear ...................................\n",
      "[CV] ......... C=10, gamma=10, kernel=linear, score=1.0, total=   0.0s\n",
      "[CV] C=10, gamma=20, kernel=rbf ......................................\n",
      "[CV]  C=10, gamma=20, kernel=rbf, score=0.7073170731707317, total=   0.0s\n",
      "[CV] C=10, gamma=20, kernel=rbf ......................................\n",
      "[CV] .......... C=10, gamma=20, kernel=rbf, score=0.825, total=   0.0s\n",
      "[CV] C=10, gamma=20, kernel=rbf ......................................\n",
      "[CV]  C=10, gamma=20, kernel=rbf, score=0.9487179487179487, total=   0.0s\n",
      "[CV] C=10, gamma=20, kernel=linear ...................................\n",
      "[CV]  C=10, gamma=20, kernel=linear, score=0.926829268292683, total=   0.0s\n",
      "[CV] C=10, gamma=20, kernel=linear ...................................\n",
      "[CV] ....... C=10, gamma=20, kernel=linear, score=0.925, total=   0.0s\n",
      "[CV] C=10, gamma=20, kernel=linear ...................................\n",
      "[CV] ......... C=10, gamma=20, kernel=linear, score=1.0, total=   0.0s\n",
      "[CV] C=10, gamma=30, kernel=rbf ......................................\n",
      "[CV]  C=10, gamma=30, kernel=rbf, score=0.5853658536585366, total=   0.0s\n",
      "[CV] C=10, gamma=30, kernel=rbf ......................................\n",
      "[CV] ........... C=10, gamma=30, kernel=rbf, score=0.75, total=   0.0s\n",
      "[CV] C=10, gamma=30, kernel=rbf ......................................\n",
      "[CV]  C=10, gamma=30, kernel=rbf, score=0.7948717948717948, total=   0.0s\n",
      "[CV] C=10, gamma=30, kernel=linear ...................................\n",
      "[CV]  C=10, gamma=30, kernel=linear, score=0.926829268292683, total=   0.0s\n",
      "[CV] C=10, gamma=30, kernel=linear ...................................\n",
      "[CV] ....... C=10, gamma=30, kernel=linear, score=0.925, total=   0.0s\n",
      "[CV] C=10, gamma=30, kernel=linear ...................................\n",
      "[CV] ......... C=10, gamma=30, kernel=linear, score=1.0, total=   0.0s\n",
      "[CV] C=100, gamma=1, kernel=rbf ......................................\n",
      "[CV]  C=100, gamma=1, kernel=rbf, score=0.926829268292683, total=   0.0s\n",
      "[CV] C=100, gamma=1, kernel=rbf ......................................\n",
      "[CV] ............ C=100, gamma=1, kernel=rbf, score=0.9, total=   0.0s\n",
      "[CV] C=100, gamma=1, kernel=rbf ......................................\n",
      "[CV]  C=100, gamma=1, kernel=rbf, score=0.9743589743589743, total=   0.0s\n",
      "[CV] C=100, gamma=1, kernel=linear ...................................\n",
      "[CV]  C=100, gamma=1, kernel=linear, score=0.926829268292683, total=   0.0s\n",
      "[CV] C=100, gamma=1, kernel=linear ...................................\n",
      "[CV] ....... C=100, gamma=1, kernel=linear, score=0.925, total=   0.0s\n",
      "[CV] C=100, gamma=1, kernel=linear ...................................\n",
      "[CV] ......... C=100, gamma=1, kernel=linear, score=1.0, total=   0.0s\n",
      "[CV] C=100, gamma=5, kernel=rbf ......................................\n",
      "[CV]  C=100, gamma=5, kernel=rbf, score=0.8780487804878049, total=   0.0s\n",
      "[CV] C=100, gamma=5, kernel=rbf ......................................\n",
      "[CV] .......... C=100, gamma=5, kernel=rbf, score=0.925, total=   0.0s\n",
      "[CV] C=100, gamma=5, kernel=rbf ......................................\n",
      "[CV] ............ C=100, gamma=5, kernel=rbf, score=1.0, total=   0.0s\n",
      "[CV] C=100, gamma=5, kernel=linear ...................................\n",
      "[CV]  C=100, gamma=5, kernel=linear, score=0.926829268292683, total=   0.0s\n",
      "[CV] C=100, gamma=5, kernel=linear ...................................\n",
      "[CV] ....... C=100, gamma=5, kernel=linear, score=0.925, total=   0.0s\n",
      "[CV] C=100, gamma=5, kernel=linear ...................................\n",
      "[CV] ......... C=100, gamma=5, kernel=linear, score=1.0, total=   0.0s\n",
      "[CV] C=100, gamma=10, kernel=rbf .....................................\n",
      "[CV]  C=100, gamma=10, kernel=rbf, score=0.8048780487804879, total=   0.0s\n",
      "[CV] C=100, gamma=10, kernel=rbf .....................................\n",
      "[CV] ......... C=100, gamma=10, kernel=rbf, score=0.925, total=   0.0s\n",
      "[CV] C=100, gamma=10, kernel=rbf .....................................\n",
      "[CV] ........... C=100, gamma=10, kernel=rbf, score=1.0, total=   0.0s\n",
      "[CV] C=100, gamma=10, kernel=linear ..................................\n",
      "[CV]  C=100, gamma=10, kernel=linear, score=0.926829268292683, total=   0.0s\n",
      "[CV] C=100, gamma=10, kernel=linear ..................................\n",
      "[CV] ...... C=100, gamma=10, kernel=linear, score=0.925, total=   0.0s\n",
      "[CV] C=100, gamma=10, kernel=linear ..................................\n",
      "[CV] ........ C=100, gamma=10, kernel=linear, score=1.0, total=   0.0s\n",
      "[CV] C=100, gamma=20, kernel=rbf .....................................\n",
      "[CV]  C=100, gamma=20, kernel=rbf, score=0.7073170731707317, total=   0.0s\n",
      "[CV] C=100, gamma=20, kernel=rbf .....................................\n",
      "[CV] ......... C=100, gamma=20, kernel=rbf, score=0.825, total=   0.0s\n",
      "[CV] C=100, gamma=20, kernel=rbf .....................................\n",
      "[CV]  C=100, gamma=20, kernel=rbf, score=0.9487179487179487, total=   0.0s\n",
      "[CV] C=100, gamma=20, kernel=linear ..................................\n",
      "[CV]  C=100, gamma=20, kernel=linear, score=0.926829268292683, total=   0.0s\n",
      "[CV] C=100, gamma=20, kernel=linear ..................................\n",
      "[CV] ...... C=100, gamma=20, kernel=linear, score=0.925, total=   0.0s\n",
      "[CV] C=100, gamma=20, kernel=linear ..................................\n",
      "[CV] ........ C=100, gamma=20, kernel=linear, score=1.0, total=   0.0s\n",
      "[CV] C=100, gamma=30, kernel=rbf .....................................\n",
      "[CV]  C=100, gamma=30, kernel=rbf, score=0.5853658536585366, total=   0.0s\n",
      "[CV] C=100, gamma=30, kernel=rbf .....................................\n",
      "[CV] .......... C=100, gamma=30, kernel=rbf, score=0.75, total=   0.0s\n",
      "[CV] C=100, gamma=30, kernel=rbf .....................................\n",
      "[CV]  C=100, gamma=30, kernel=rbf, score=0.7948717948717948, total=   0.0s\n",
      "[CV] C=100, gamma=30, kernel=linear ..................................\n",
      "[CV]  C=100, gamma=30, kernel=linear, score=0.926829268292683, total=   0.0s\n",
      "[CV] C=100, gamma=30, kernel=linear ..................................\n",
      "[CV] ...... C=100, gamma=30, kernel=linear, score=0.925, total=   0.0s\n",
      "[CV] C=100, gamma=30, kernel=linear ..................................\n"
     ]
    },
    {
     "name": "stdout",
     "output_type": "stream",
     "text": [
      "[CV] ........ C=100, gamma=30, kernel=linear, score=1.0, total=   0.0s\n",
      "[CV] C=1000, gamma=1, kernel=rbf .....................................\n",
      "[CV]  C=1000, gamma=1, kernel=rbf, score=0.926829268292683, total=   0.0s\n",
      "[CV] C=1000, gamma=1, kernel=rbf .....................................\n",
      "[CV] ........... C=1000, gamma=1, kernel=rbf, score=0.9, total=   0.0s\n",
      "[CV] C=1000, gamma=1, kernel=rbf .....................................\n",
      "[CV]  C=1000, gamma=1, kernel=rbf, score=0.9743589743589743, total=   0.0s\n",
      "[CV] C=1000, gamma=1, kernel=linear ..................................\n",
      "[CV]  C=1000, gamma=1, kernel=linear, score=0.926829268292683, total=   0.0s\n",
      "[CV] C=1000, gamma=1, kernel=linear ..................................\n",
      "[CV] ...... C=1000, gamma=1, kernel=linear, score=0.925, total=   0.0s\n",
      "[CV] C=1000, gamma=1, kernel=linear ..................................\n",
      "[CV] ........ C=1000, gamma=1, kernel=linear, score=1.0, total=   0.0s\n",
      "[CV] C=1000, gamma=5, kernel=rbf .....................................\n",
      "[CV]  C=1000, gamma=5, kernel=rbf, score=0.8780487804878049, total=   0.0s\n",
      "[CV] C=1000, gamma=5, kernel=rbf .....................................\n",
      "[CV] ......... C=1000, gamma=5, kernel=rbf, score=0.925, total=   0.0s\n",
      "[CV] C=1000, gamma=5, kernel=rbf .....................................\n",
      "[CV] ........... C=1000, gamma=5, kernel=rbf, score=1.0, total=   0.0s\n",
      "[CV] C=1000, gamma=5, kernel=linear ..................................\n",
      "[CV]  C=1000, gamma=5, kernel=linear, score=0.926829268292683, total=   0.0s\n",
      "[CV] C=1000, gamma=5, kernel=linear ..................................\n",
      "[CV] ...... C=1000, gamma=5, kernel=linear, score=0.925, total=   0.0s\n",
      "[CV] C=1000, gamma=5, kernel=linear ..................................\n",
      "[CV] ........ C=1000, gamma=5, kernel=linear, score=1.0, total=   0.0s\n",
      "[CV] C=1000, gamma=10, kernel=rbf ....................................\n",
      "[CV]  C=1000, gamma=10, kernel=rbf, score=0.8048780487804879, total=   0.0s\n",
      "[CV] C=1000, gamma=10, kernel=rbf ....................................\n",
      "[CV] ........ C=1000, gamma=10, kernel=rbf, score=0.925, total=   0.0s\n",
      "[CV] C=1000, gamma=10, kernel=rbf ....................................\n",
      "[CV] .......... C=1000, gamma=10, kernel=rbf, score=1.0, total=   0.0s\n",
      "[CV] C=1000, gamma=10, kernel=linear .................................\n",
      "[CV]  C=1000, gamma=10, kernel=linear, score=0.926829268292683, total=   0.0s\n",
      "[CV] C=1000, gamma=10, kernel=linear .................................\n",
      "[CV] ..... C=1000, gamma=10, kernel=linear, score=0.925, total=   0.0s\n",
      "[CV] C=1000, gamma=10, kernel=linear .................................\n",
      "[CV] ....... C=1000, gamma=10, kernel=linear, score=1.0, total=   0.0s\n",
      "[CV] C=1000, gamma=20, kernel=rbf ....................................\n",
      "[CV]  C=1000, gamma=20, kernel=rbf, score=0.7073170731707317, total=   0.0s\n",
      "[CV] C=1000, gamma=20, kernel=rbf ....................................\n",
      "[CV] ........ C=1000, gamma=20, kernel=rbf, score=0.825, total=   0.0s\n",
      "[CV] C=1000, gamma=20, kernel=rbf ....................................\n",
      "[CV]  C=1000, gamma=20, kernel=rbf, score=0.9487179487179487, total=   0.0s\n",
      "[CV] C=1000, gamma=20, kernel=linear .................................\n",
      "[CV]  C=1000, gamma=20, kernel=linear, score=0.926829268292683, total=   0.0s\n",
      "[CV] C=1000, gamma=20, kernel=linear .................................\n",
      "[CV] ..... C=1000, gamma=20, kernel=linear, score=0.925, total=   0.0s\n",
      "[CV] C=1000, gamma=20, kernel=linear .................................\n",
      "[CV] ....... C=1000, gamma=20, kernel=linear, score=1.0, total=   0.0s\n",
      "[CV] C=1000, gamma=30, kernel=rbf ....................................\n",
      "[CV]  C=1000, gamma=30, kernel=rbf, score=0.5853658536585366, total=   0.0s\n",
      "[CV] C=1000, gamma=30, kernel=rbf ....................................\n",
      "[CV] ......... C=1000, gamma=30, kernel=rbf, score=0.75, total=   0.0s\n",
      "[CV] C=1000, gamma=30, kernel=rbf ....................................\n",
      "[CV]  C=1000, gamma=30, kernel=rbf, score=0.7948717948717948, total=   0.0s\n",
      "[CV] C=1000, gamma=30, kernel=linear .................................\n",
      "[CV]  C=1000, gamma=30, kernel=linear, score=0.926829268292683, total=   0.0s\n",
      "[CV] C=1000, gamma=30, kernel=linear .................................\n",
      "[CV] ..... C=1000, gamma=30, kernel=linear, score=0.925, total=   0.0s\n",
      "[CV] C=1000, gamma=30, kernel=linear .................................\n",
      "[CV] ....... C=1000, gamma=30, kernel=linear, score=1.0, total=   0.0s\n"
     ]
    },
    {
     "name": "stderr",
     "output_type": "stream",
     "text": [
      "[Parallel(n_jobs=1)]: Done 150 out of 150 | elapsed:    0.4s finished\n"
     ]
    },
    {
     "data": {
      "text/plain": [
       "GridSearchCV(cv=None, error_score='raise',\n",
       "       estimator=SVC(C=1.0, cache_size=200, class_weight=None, coef0=0.0,\n",
       "  decision_function_shape='ovr', degree=3, gamma='auto', kernel='rbf',\n",
       "  max_iter=-1, probability=False, random_state=None, shrinking=True,\n",
       "  tol=0.001, verbose=False),\n",
       "       fit_params=None, iid=True, n_jobs=1,\n",
       "       param_grid={'C': [0.001, 0.01, 10, 100, 1000], 'gamma': [1, 5, 10, 20, 30], 'kernel': ['rbf', 'linear']},\n",
       "       pre_dispatch='2*n_jobs', refit=True, return_train_score='warn',\n",
       "       scoring=None, verbose=3)"
      ]
     },
     "execution_count": 30,
     "metadata": {},
     "output_type": "execute_result"
    }
   ],
   "source": [
    "grid.fit(X_train, y_train)"
   ]
  },
  {
   "cell_type": "code",
   "execution_count": 31,
   "metadata": {},
   "outputs": [
    {
     "data": {
      "text/plain": [
       "{'C': 10, 'gamma': 1, 'kernel': 'rbf'}"
      ]
     },
     "execution_count": 31,
     "metadata": {},
     "output_type": "execute_result"
    }
   ],
   "source": [
    "grid.best_params_"
   ]
  },
  {
   "cell_type": "code",
   "execution_count": 32,
   "metadata": {
    "collapsed": true
   },
   "outputs": [],
   "source": [
    "svc_grid = SVC(kernel = 'rbf', C=10, gamma=1)"
   ]
  },
  {
   "cell_type": "code",
   "execution_count": 33,
   "metadata": {},
   "outputs": [
    {
     "data": {
      "text/plain": [
       "SVC(C=10, cache_size=200, class_weight=None, coef0=0.0,\n",
       "  decision_function_shape='ovr', degree=3, gamma=1, kernel='rbf',\n",
       "  max_iter=-1, probability=False, random_state=None, shrinking=True,\n",
       "  tol=0.001, verbose=False)"
      ]
     },
     "execution_count": 33,
     "metadata": {},
     "output_type": "execute_result"
    }
   ],
   "source": [
    "svc_grid.fit(X_train, y_train)"
   ]
  },
  {
   "cell_type": "code",
   "execution_count": 34,
   "metadata": {
    "collapsed": true
   },
   "outputs": [],
   "source": [
    "svc_predict = svc_grid.predict(X_test)"
   ]
  },
  {
   "cell_type": "code",
   "execution_count": 35,
   "metadata": {},
   "outputs": [
    {
     "name": "stdout",
     "output_type": "stream",
     "text": [
      "0.966666666667\n"
     ]
    }
   ],
   "source": [
    "print(accuracy_score(svc_predict, y_test))"
   ]
  },
  {
   "cell_type": "code",
   "execution_count": 36,
   "metadata": {},
   "outputs": [
    {
     "data": {
      "image/png": "[encoded data removed]",
      "text/plain": [
       "<matplotlib.figure.Figure at 0x1b9ed89b0>"
      ]
     },
     "metadata": {},
     "output_type": "display_data"
    }
   ],
   "source": [
    "conf_mat = confusion_matrix(svc_predict, y_test)\n",
    "sns.heatmap(conf_mat, annot=True, fmt='d', cbar=False)\n",
    "plt.show()"
   ]
  },
  {
   "cell_type": "markdown",
   "metadata": {},
   "source": [
    "So the accuracy of the model increased significantly from 70% to 97% by finding the most suitable values for \n",
    "the SVM parameters"
   ]
  }
 ],
 "metadata": {
  "kernelspec": {
   "display_name": "Python 3",
   "language": "python",
   "name": "python3"
  },
  "language_info": {
   "codemirror_mode": {
    "name": "ipython",
    "version": 3
   },
   "file_extension": ".py",
   "mimetype": "text/x-python",
   "name": "python",
   "nbconvert_exporter": "python",
   "pygments_lexer": "ipython3",
   "version": "3.5.4"
  },
  "widgets": {
   "state": {},
   "version": "1.1.2"
  }
 },
 "nbformat": 4,
 "nbformat_minor": 2
}
